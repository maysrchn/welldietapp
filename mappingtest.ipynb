{
 "cells": [
  {
   "cell_type": "code",
   "execution_count": 6,
   "metadata": {},
   "outputs": [
    {
     "name": "stdout",
     "output_type": "stream",
     "text": [
      "{True: 'เป็น 1 คน', False: 'ไม่มีใครเป็น', 2: 'เป็นทั้งพ่อทั้งแม่'}\n"
     ]
    }
   ],
   "source": [
    "mapping = {\n",
    "    \"Yes\": True,\n",
    "    \"No\": False,\n",
    "    \"ไม่มีใครเป็น\": 0,\n",
    "    \"เป็น 1 คน\": 1,\n",
    "    \"เป็นทั้งพ่อทั้งแม่\": 2}\n",
    "reversed_mapping = {value: key for key, value in mapping.items()}\n",
    "print(reversed_mapping)\n"
   ]
  },
  {
   "cell_type": "code",
   "execution_count": null,
   "metadata": {},
   "outputs": [],
   "source": [
    "mapping_yes_no = {\n",
    "    0: (\"Yes\", True),\n",
    "    1: (\"No\", False),}\n",
    "mapping_family_HT = {        \n",
    "    0 : (\"ไม่มีใครเป็น\", 0),\n",
    "    1 : (\"เป็น 1 คน\", 1),\n",
    "    2 : (\"เป็นทั้งพ่อทั้งแม่\", 2)}\n",
    "\n",
    "\n",
    "print((mapping_yes_no[\"Yes\"])[0])"
   ]
  },
  {
   "cell_type": "code",
   "execution_count": 9,
   "metadata": {},
   "outputs": [
    {
     "name": "stdout",
     "output_type": "stream",
     "text": [
      "True\n"
     ]
    }
   ],
   "source": [
    "mapping_yes_no = {\n",
    "    \"Yes\": (0, True),\n",
    "    \"No\": (1, False),\n",
    "}\n",
    "\n",
    "print(mapping_yes_no[\"Yes\"][1])  # Output: 0\n"
   ]
  }
 ],
 "metadata": {
  "kernelspec": {
   "display_name": "Python 3",
   "language": "python",
   "name": "python3"
  },
  "language_info": {
   "codemirror_mode": {
    "name": "ipython",
    "version": 3
   },
   "file_extension": ".py",
   "mimetype": "text/x-python",
   "name": "python",
   "nbconvert_exporter": "python",
   "pygments_lexer": "ipython3",
   "version": "3.11.1 (v3.11.1:a7a450f84a, Dec  6 2022, 15:24:06) [Clang 13.0.0 (clang-1300.0.29.30)]"
  },
  "orig_nbformat": 4,
  "vscode": {
   "interpreter": {
    "hash": "aee8b7b246df8f9039afb4144a1f6fd8d2ca17a180786b69acc140d282b71a49"
   }
  }
 },
 "nbformat": 4,
 "nbformat_minor": 2
}
